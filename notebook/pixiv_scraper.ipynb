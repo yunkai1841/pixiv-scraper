{
 "cells": [
  {
   "attachments": {},
   "cell_type": "markdown",
   "metadata": {},
   "source": [
    "# Pixivから検索結果をダウンロード\n",
    "\n",
    "### ログインのために必要な情報\n",
    "- refresh token\n",
    "\n",
    "### メモ\n",
    "ログイン時に、Cloudflareにブロックされたら時間をおいて、ログイン部分を再実行する"
   ]
  },
  {
   "cell_type": "code",
   "execution_count": null,
   "metadata": {},
   "outputs": [],
   "source": [
    "from pixivpy3 import *\n",
    "from time import sleep\n",
    "import os\n",
    "import datetime"
   ]
  },
  {
   "cell_type": "code",
   "execution_count": null,
   "metadata": {},
   "outputs": [],
   "source": [
    "#@title 検索したいワード\n",
    "search_word = 'NovelAI' #@param {type:\"string\"}"
   ]
  },
  {
   "cell_type": "code",
   "execution_count": null,
   "metadata": {
    "tags": []
   },
   "outputs": [],
   "source": [
    "#@title Parameters\n",
    "TOKEN = \"your_refresh_token\" #@param {type:\"string}\n",
    "DL_PATH = \"./download\" #@param {type:\"string\"}\n",
    "METADATA_PATH = \"./metadata\" #@param {type:\"string\"}\n",
    "INTERVAL = 1 #@param {type:\"int\"}\n",
    "DL_SIZE = \"large\" #@param [\"square_medium\", \"medium\", \"large\"]\n",
    "START_DATE = datetime.date(2022, 8, 1) #@param {type:\"date\"}\n",
    "END_DATE = datetime.date.today() #@param {type:\"date\"}\n",
    "SEARCH_TARGET = \"partial_match_for_tags\" #@param [\"exact_match_for_tags\", \"partial_match_for_tags\", \"title_and_caption\", \"keyword\"]"
   ]
  },
  {
   "cell_type": "code",
   "execution_count": null,
   "metadata": {},
   "outputs": [],
   "source": [
    "#@title Login\n",
    "api = AppPixivAPI()\n",
    "api.auth(refresh_token=TOKEN)"
   ]
  },
  {
   "cell_type": "code",
   "execution_count": null,
   "metadata": {},
   "outputs": [],
   "source": [
    "#@title Download\n",
    "if not os.path.exists(DL_PATH):\n",
    "    os.makedirs(DL_PATH)\n",
    "if not os.path.exists(METADATA_PATH):\n",
    "    os.makedirs(METADATA_PATH)\n",
    "\n",
    "for d in range((END_DATE - START_DATE).days + 1):\n",
    "    date = START_DATE + datetime.timedelta(days=d)\n",
    "    date_str = date.strftime(\"%Y-%m-%d\")\n",
    "    print(\"Downloading images in %s\" % date_str)\n",
    "    json_result = api.search_illust(search_word, start_date=date_str, end_date=date_str, search_target=SEARCH_TARGET)\n",
    "    if not json_result.illusts:\n",
    "        print(\"No images found in %s\" % date_str)\n",
    "        sleep(INTERVAL)\n",
    "        continue\n",
    "    date_dl_path = DL_PATH + \"/\" + date_str\n",
    "    if not os.path.exists(date_dl_path):\n",
    "        os.makedirs(date_dl_path)\n",
    "\n",
    "    while True:\n",
    "        for illust in json_result.illusts:\n",
    "            print(\"[%s] %s\" % (illust.title, illust.image_urls[DL_SIZE]))\n",
    "            api.download(illust.image_urls[DL_SIZE], path=date_dl_path)\n",
    "            with open(METADATA_PATH + \"/\" + date_str + \".txt\", \"a\", encoding=\"utf-8\") as f:\n",
    "                f.write(str(illust) + \"\\n\")\n",
    "            sleep(INTERVAL)\n",
    "        next_qs = api.parse_qs(json_result.next_url)\n",
    "        with open(METADATA_PATH + \"/next_qs.txt\", \"a\", encoding=\"utf-8\") as f:\n",
    "            f.write(str(next_qs) + \"\\n\")\n",
    "            f.write(str(json_result.next_url) + \"\\n\")\n",
    "        if next_qs:\n",
    "            json_result = api.search_illust(**next_qs)\n",
    "\n",
    "            # Retry\n",
    "            # *Note: authentification is required for every 3600 seconds\n",
    "            for _ in range(10):\n",
    "                if json_result.illusts:\n",
    "                    break\n",
    "                try:\n",
    "                    api.auth(refresh_token=TOKEN)\n",
    "                    json_result = api.search_illust(**next_qs)\n",
    "                    sleep(INTERVAL*10)\n",
    "                except:\n",
    "                    pass\n",
    "            if not json_result.illusts:\n",
    "                with open(METADATA_PATH + \"/error.txt\", \"a\", encoding=\"utf-8\") as f:\n",
    "                    f.write(str(next_qs) + \"\\n\")\n",
    "                    f.write(str(json_result) + \"\\n\")\n",
    "                break\n",
    "        else:\n",
    "            break\n",
    "        sleep(INTERVAL)"
   ]
  }
 ],
 "metadata": {
  "kernelspec": {
   "display_name": "pixiv",
   "language": "python",
   "name": "python3"
  },
  "language_info": {
   "codemirror_mode": {
    "name": "ipython",
    "version": 3
   },
   "file_extension": ".py",
   "mimetype": "text/x-python",
   "name": "python",
   "nbconvert_exporter": "python",
   "pygments_lexer": "ipython3",
   "version": "3.10.8 | packaged by conda-forge | (main, Nov  4 2022, 13:42:51) [MSC v.1916 64 bit (AMD64)]"
  },
  "orig_nbformat": 4,
  "vscode": {
   "interpreter": {
    "hash": "02aa3541133c34de371eb5ff36366040c7b195f481d998bf79388ad68457213d"
   }
  }
 },
 "nbformat": 4,
 "nbformat_minor": 2
}
